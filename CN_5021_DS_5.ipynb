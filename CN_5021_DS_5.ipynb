{
  "nbformat": 4,
  "nbformat_minor": 0,
  "metadata": {
    "colab": {
      "provenance": [],
      "authorship_tag": "ABX9TyNK7JeZU1wY23mw4Kssc3AH",
      "include_colab_link": true
    },
    "kernelspec": {
      "name": "python3",
      "display_name": "Python 3"
    },
    "language_info": {
      "name": "python"
    }
  },
  "cells": [
    {
      "cell_type": "markdown",
      "metadata": {
        "id": "view-in-github",
        "colab_type": "text"
      },
      "source": [
        "<a href=\"https://colab.research.google.com/github/surajkr214/Programming-For-Data-Science/blob/main/CN_5021_DS_5.ipynb\" target=\"_parent\"><img src=\"https://colab.research.google.com/assets/colab-badge.svg\" alt=\"Open In Colab\"/></a>"
      ]
    },
    {
      "cell_type": "code",
      "execution_count": 1,
      "metadata": {
        "colab": {
          "base_uri": "https://localhost:8080/"
        },
        "id": "sxm4J3q1KG2Y",
        "outputId": "e0d230be-06fa-4459-ee1c-e087504e6627"
      },
      "outputs": [
        {
          "output_type": "stream",
          "name": "stdout",
          "text": [
            "--- Question 1 ---\n",
            "\n",
            "Question 1a: Create and show the array\n",
            "[2 8 4 8 2 2 4]\n",
            "\n",
            "Question 1b: Display the size of the array\n",
            "7\n",
            "\n",
            "Question 1c: Retrieve three middle elements using slicing\n",
            "[4 8 2]\n",
            "\n",
            "--- Question 2 ---\n",
            "\n",
            "Question 2a: Create and display the 2D array\n",
            "[[ 2  8  4  8  2  2  4]\n",
            " [ 4 16  8 16  4  4  8]\n",
            " [ 6 24 12 24  6  6 12]]\n",
            "\n",
            "Question 2b: Access and display values in the second row (indexing)\n",
            "[ 4 16  8 16  4  4  8]\n",
            "\n",
            "Question 2c: Access and display first and second rows (indexing)\n",
            "[[ 2  8  4  8  2  2  4]\n",
            " [ 4 16  8 16  4  4  8]]\n",
            "\n",
            "Question 2d: Access and display second and third rows (fancy indexing)\n",
            "[[ 4 16  8 16  4  4  8]\n",
            " [ 6 24 12 24  6  6 12]]\n",
            "\n",
            "Question 2e: Access all rows, last two columns\n",
            "[[ 2  4]\n",
            " [ 4  8]\n",
            " [ 6 12]]\n",
            "\n",
            "Question 2f: Display numbers greater than 10 (Boolean indexing)\n",
            "[16 16 24 12 24 12]\n"
          ]
        }
      ],
      "source": [
        "import numpy as np\n",
        "\n",
        "# Sample Student ID\n",
        "student_id_digits = [2,8,4,8,2,2,4]\n",
        "\n",
        "# Question 1\n",
        "print(\"--- Question 1 ---\")\n",
        "\n",
        "# Question 1a: Write code to create and show the array\n",
        "print(\"\\nQuestion 1a: Create and show the array\")\n",
        "arrayNumbers = np.array(student_id_digits)\n",
        "print(arrayNumbers)\n",
        "\n",
        "# Question 1b: Write code to display the size of the array\n",
        "print(\"\\nQuestion 1b: Display the size of the array\")\n",
        "print(arrayNumbers.size)\n",
        "\n",
        "# Question 1c: Write code to show how you will retrieve the three middle elements of the array, using slicing.\n",
        "print(\"\\nQuestion 1c: Retrieve three middle elements using slicing\")\n",
        "# For an array with 7 elements, the middle three are at indices 2, 3, 4.\n",
        "# Slicing goes from start_index to end_index (exclusive).\n",
        "# So, arrayNumbers[2:5] will get elements at indices 2, 3, 4.\n",
        "middle_elements = arrayNumbers[2:5]\n",
        "print(middle_elements)\n",
        "\n",
        "# Question 2\n",
        "print(\"\\n--- Question 2 ---\")\n",
        "\n",
        "# Question 2a: How you will create this array and display its values\n",
        "print(\"\\nQuestion 2a: Create and display the 2D array\")\n",
        "first_row = np.array(student_id_digits)\n",
        "second_row = first_row * 2\n",
        "third_row = first_row * 3\n",
        "\n",
        "myNumbers = np.array([first_row, second_row, third_row])\n",
        "print(myNumbers)\n",
        "\n",
        "# Question 2b: How you will access and display the values in the second row, using indexing\n",
        "print(\"\\nQuestion 2b: Access and display values in the second row (indexing)\")\n",
        "# Rows are indexed starting from 0. The second row is at index 1.\n",
        "second_row_values = myNumbers[1]\n",
        "print(second_row_values)\n",
        "\n",
        "# Question 2c: How you will access and display the first and second rows of values, using indexing\n",
        "print(\"\\nQuestion 2c: Access and display first and second rows (indexing)\")\n",
        "# To get the first and second rows, we can slice from row 0 up to (but not including) row 2.\n",
        "first_and_second_rows = myNumbers[0:2]\n",
        "print(first_and_second_rows)\n",
        "\n",
        "# Question 2d: How you will access and display the second and third rows of values, using fancy indexing\n",
        "print(\"\\nQuestion 2d: Access and display second and third rows (fancy indexing)\")\n",
        "# Fancy indexing uses a list or array of indices.\n",
        "second_and_third_rows_fancy = myNumbers[[1, 2]]\n",
        "print(second_and_third_rows_fancy)\n",
        "\n",
        "# Question 2e: How you will access and display all the rows of values, but only the last two columns\n",
        "print(\"\\nQuestion 2e: Access all rows, last two columns\")\n",
        "# To get all rows, use a colon :\n",
        "# To get the last two columns, you can slice from -2 to the end :\n",
        "all_rows_last_two_cols = myNumbers[:, -2:]\n",
        "print(all_rows_last_two_cols)\n",
        "\n",
        "# Question 2f: How you will display all the numbers in the array, which are greater than 10, using Boolean indexing\n",
        "print(\"\\nQuestion 2f: Display numbers greater than 10 (Boolean indexing)\")\n",
        "# Create a boolean array where elements are True if > 10, False otherwise\n",
        "greater_than_10_mask = myNumbers > 10\n",
        "# Use the boolean mask to select elements from myNumbers\n",
        "numbers_greater_than_10 = myNumbers[greater_than_10_mask]\n",
        "print(numbers_greater_than_10)"
      ]
    }
  ]
}