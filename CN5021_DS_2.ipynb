{
  "nbformat": 4,
  "nbformat_minor": 0,
  "metadata": {
    "colab": {
      "provenance": [],
      "include_colab_link": true
    },
    "kernelspec": {
      "name": "python3",
      "display_name": "Python 3"
    },
    "language_info": {
      "name": "python"
    }
  },
  "cells": [
    {
      "cell_type": "markdown",
      "metadata": {
        "id": "view-in-github",
        "colab_type": "text"
      },
      "source": [
        "<a href=\"https://colab.research.google.com/github/surajkr214/Programming-For-Data-Science/blob/main/CN5021_DS_2.ipynb\" target=\"_parent\"><img src=\"https://colab.research.google.com/assets/colab-badge.svg\" alt=\"Open In Colab\"/></a>"
      ]
    },
    {
      "cell_type": "markdown",
      "source": [
        "**QN.1 Practice the code examples discussed during the lecture (lecture week 2 – part 2)**"
      ],
      "metadata": {
        "id": "526Majcn0_BE"
      }
    },
    {
      "cell_type": "code",
      "execution_count": null,
      "metadata": {
        "colab": {
          "base_uri": "https://localhost:8080/"
        },
        "id": "Nld4Igc5JPKL",
        "outputId": "917fff51-4eca-41b5-d4ee-eedebc78ff96"
      },
      "outputs": [
        {
          "output_type": "execute_result",
          "data": {
            "text/plain": [
              "4"
            ]
          },
          "metadata": {},
          "execution_count": 5
        }
      ],
      "source": [
        "4"
      ]
    },
    {
      "cell_type": "code",
      "metadata": {
        "id": "4f163dad",
        "colab": {
          "base_uri": "https://localhost:8080/"
        },
        "outputId": "a8f7d099-ff45-4f8d-e3ec-dc65e449c818"
      },
      "source": [
        "print (4)"
      ],
      "execution_count": null,
      "outputs": [
        {
          "output_type": "stream",
          "name": "stdout",
          "text": [
            "4\n"
          ]
        }
      ]
    },
    {
      "cell_type": "code",
      "source": [
        "3+4"
      ],
      "metadata": {
        "colab": {
          "base_uri": "https://localhost:8080/"
        },
        "id": "YvkA4cEqMFH2",
        "outputId": "0e4e6874-566d-4aea-e943-cbf6df5a23cd"
      },
      "execution_count": null,
      "outputs": [
        {
          "output_type": "execute_result",
          "data": {
            "text/plain": [
              "7"
            ]
          },
          "metadata": {},
          "execution_count": 9
        }
      ]
    },
    {
      "cell_type": "code",
      "source": [
        "1 + 2.5 + 3 + 5.2 + 10 + 40"
      ],
      "metadata": {
        "colab": {
          "base_uri": "https://localhost:8080/"
        },
        "id": "aiPt1oJTMGhU",
        "outputId": "34c9a3c4-7cf5-44c3-fdd1-783751c73fdf"
      },
      "execution_count": null,
      "outputs": [
        {
          "output_type": "execute_result",
          "data": {
            "text/plain": [
              "61.7"
            ]
          },
          "metadata": {},
          "execution_count": 11
        }
      ]
    },
    {
      "cell_type": "code",
      "source": [
        "print(1 + 2.5 + 3 + 5.2 + 10 + 40)"
      ],
      "metadata": {
        "colab": {
          "base_uri": "https://localhost:8080/"
        },
        "id": "V3AXniJFMs7H",
        "outputId": "af5eb37a-4cbb-4847-c9db-3ec30c8c82e9"
      },
      "execution_count": null,
      "outputs": [
        {
          "output_type": "stream",
          "name": "stdout",
          "text": [
            "61.7\n"
          ]
        }
      ]
    },
    {
      "cell_type": "markdown",
      "source": [
        "**STRINGS**"
      ],
      "metadata": {
        "id": "ebZnotzoNNgk"
      }
    },
    {
      "cell_type": "code",
      "source": [
        "\"19\""
      ],
      "metadata": {
        "colab": {
          "base_uri": "https://localhost:8080/",
          "height": 36
        },
        "id": "_Kc78-Q4NQt0",
        "outputId": "9b70240f-db3b-4321-917a-4e905f0fc2bf"
      },
      "execution_count": null,
      "outputs": [
        {
          "output_type": "execute_result",
          "data": {
            "text/plain": [
              "'19'"
            ],
            "application/vnd.google.colaboratory.intrinsic+json": {
              "type": "string"
            }
          },
          "metadata": {},
          "execution_count": 18
        }
      ]
    },
    {
      "cell_type": "code",
      "source": [
        "'19'"
      ],
      "metadata": {
        "colab": {
          "base_uri": "https://localhost:8080/",
          "height": 36
        },
        "id": "ug1JPOivNUd7",
        "outputId": "c8a90822-8161-4342-8e27-74cd1fb253c2"
      },
      "execution_count": null,
      "outputs": [
        {
          "output_type": "execute_result",
          "data": {
            "text/plain": [
              "'19'"
            ],
            "application/vnd.google.colaboratory.intrinsic+json": {
              "type": "string"
            }
          },
          "metadata": {},
          "execution_count": 19
        }
      ]
    },
    {
      "cell_type": "code",
      "source": [
        "\"abc\""
      ],
      "metadata": {
        "colab": {
          "base_uri": "https://localhost:8080/",
          "height": 36
        },
        "id": "5uw9uNmaNaZc",
        "outputId": "679db17e-da82-4d57-9e1c-e2a0d758647a"
      },
      "execution_count": null,
      "outputs": [
        {
          "output_type": "execute_result",
          "data": {
            "text/plain": [
              "'abc'"
            ],
            "application/vnd.google.colaboratory.intrinsic+json": {
              "type": "string"
            }
          },
          "metadata": {},
          "execution_count": 21
        }
      ]
    },
    {
      "cell_type": "markdown",
      "source": [
        "**CALCULATION EXAMPLE**"
      ],
      "metadata": {
        "id": "FmKY90GW1Lho"
      }
    },
    {
      "cell_type": "code",
      "source": [
        "5+10"
      ],
      "metadata": {
        "colab": {
          "base_uri": "https://localhost:8080/"
        },
        "id": "HJ3coa2UUfOI",
        "outputId": "47419e68-a812-4755-c8df-21df7c2ad89e"
      },
      "execution_count": null,
      "outputs": [
        {
          "output_type": "execute_result",
          "data": {
            "text/plain": [
              "15"
            ]
          },
          "metadata": {},
          "execution_count": 36
        }
      ]
    },
    {
      "cell_type": "code",
      "source": [
        "'5'+'10'"
      ],
      "metadata": {
        "colab": {
          "base_uri": "https://localhost:8080/",
          "height": 36
        },
        "id": "tGlRcFQxUvx8",
        "outputId": "6b7934d9-60aa-4df5-a9b4-5881f310ea0c"
      },
      "execution_count": null,
      "outputs": [
        {
          "output_type": "execute_result",
          "data": {
            "text/plain": [
              "'510'"
            ],
            "application/vnd.google.colaboratory.intrinsic+json": {
              "type": "string"
            }
          },
          "metadata": {},
          "execution_count": 37
        }
      ]
    },
    {
      "cell_type": "code",
      "source": [
        "5+ int(10)"
      ],
      "metadata": {
        "colab": {
          "base_uri": "https://localhost:8080/"
        },
        "id": "--X-NZ-VU0XO",
        "outputId": "696b3375-dfd3-4f43-9998-ba075e1ca7dc"
      },
      "execution_count": null,
      "outputs": [
        {
          "output_type": "execute_result",
          "data": {
            "text/plain": [
              "15"
            ]
          },
          "metadata": {},
          "execution_count": 39
        }
      ]
    },
    {
      "cell_type": "code",
      "source": [
        "'5'+ str(10)"
      ],
      "metadata": {
        "colab": {
          "base_uri": "https://localhost:8080/",
          "height": 36
        },
        "id": "estwGwKnVTkd",
        "outputId": "2be5960a-e86d-4cfb-e23c-ae44fe00c739"
      },
      "execution_count": null,
      "outputs": [
        {
          "output_type": "execute_result",
          "data": {
            "text/plain": [
              "'510'"
            ],
            "application/vnd.google.colaboratory.intrinsic+json": {
              "type": "string"
            }
          },
          "metadata": {},
          "execution_count": 40
        }
      ]
    },
    {
      "cell_type": "markdown",
      "source": [
        "**Variables and Assignment**"
      ],
      "metadata": {
        "id": "dvv2lsghVi9I"
      }
    },
    {
      "cell_type": "code",
      "source": [
        "a=2\n",
        "b=5\n",
        "print(a)\n",
        "print(b)\n",
        "print('the value of \"a\"  is ', a)\n",
        "print('the value of \"b\"  is ', b)"
      ],
      "metadata": {
        "colab": {
          "base_uri": "https://localhost:8080/"
        },
        "id": "jzTL_nzdVlnI",
        "outputId": "7e4f3137-92aa-4886-c8fe-63233b59e568"
      },
      "execution_count": null,
      "outputs": [
        {
          "output_type": "stream",
          "name": "stdout",
          "text": [
            "2\n",
            "5\n",
            "the value of \"a\"  is  2\n",
            "the value of \"b\"  is  5\n"
          ]
        }
      ]
    },
    {
      "cell_type": "markdown",
      "source": [
        "**CONTROL CODES**"
      ],
      "metadata": {
        "id": "sIJEuhvL1gp2"
      }
    },
    {
      "cell_type": "code",
      "source": [
        "print('A\\nB\\nC')\n",
        "print('D\\tE\\tF')\n",
        "print('WX\\bYZ')\n",
        "print('1\\a2\\a3\\a4\\a5\\a6')"
      ],
      "metadata": {
        "colab": {
          "base_uri": "https://localhost:8080/"
        },
        "id": "4CYh_iWL1j-5",
        "outputId": "1d735428-e2c6-4d89-df5a-42656bbab6d9"
      },
      "execution_count": null,
      "outputs": [
        {
          "output_type": "stream",
          "name": "stdout",
          "text": [
            "A\n",
            "B\n",
            "C\n",
            "D\tE\tF\n",
            "WX\bYZ\n",
            "1\u00072\u00073\u00074\u00075\u00076\n"
          ]
        }
      ]
    },
    {
      "cell_type": "markdown",
      "source": [
        "**USER INPUT**"
      ],
      "metadata": {
        "id": "FG-zEVUq2VwZ"
      }
    },
    {
      "cell_type": "code",
      "source": [
        "print(\"Enter some text:\")\n",
        "x= input()\n",
        "print (\"Text Entered:\", x)\n",
        "print (\"Type:\", type(x))"
      ],
      "metadata": {
        "colab": {
          "base_uri": "https://localhost:8080/"
        },
        "id": "jc_f5X4M2fSu",
        "outputId": "a8012fe4-3a07-4d57-9d90-b774b6e05c4f"
      },
      "execution_count": null,
      "outputs": [
        {
          "output_type": "stream",
          "name": "stdout",
          "text": [
            "Enter some text:\n",
            "5\n",
            "Text Entered: 5\n",
            "Type: <class 'str'>\n"
          ]
        }
      ]
    },
    {
      "cell_type": "code",
      "source": [
        "x = input('Please enter an integer value:')\n",
        "y = input('Please enter another integer value:')\n",
        "numl = int(x)\n",
        "num2 = int(y)\n",
        "print(numl, '+' , num2, '=', numl + num2)"
      ],
      "metadata": {
        "colab": {
          "base_uri": "https://localhost:8080/"
        },
        "id": "Ix2kAvff38nD",
        "outputId": "36848321-6b14-4374-9c73-92e8b64ee7dc"
      },
      "execution_count": null,
      "outputs": [
        {
          "output_type": "stream",
          "name": "stdout",
          "text": [
            "Please enter an integer value:12\n",
            "Please enter another integer value:14\n",
            "12 + 14 = 26\n"
          ]
        }
      ]
    },
    {
      "cell_type": "markdown",
      "source": [
        "**QN.2 IN WORD**"
      ],
      "metadata": {
        "id": "8RHRhdxM6viz"
      }
    },
    {
      "cell_type": "markdown",
      "source": [
        "QN. 3 **CURRENCY EXCHANGE!**"
      ],
      "metadata": {
        "id": "2L29O9gBPb8t"
      }
    },
    {
      "cell_type": "code",
      "source": [
        "# getting input from the user\n",
        "USD=float(input(\"Enter the amount in in USD:$\"))\n",
        "GBP= USD*0.75\n",
        "print(f\"${USD} is equivalent to £{GBP}\")"
      ],
      "metadata": {
        "colab": {
          "base_uri": "https://localhost:8080/"
        },
        "id": "2ohFxuxCPmhs",
        "outputId": "3681a0bf-9eab-4d96-d23e-b0e5dda6b95e"
      },
      "execution_count": null,
      "outputs": [
        {
          "output_type": "stream",
          "name": "stdout",
          "text": [
            "Enter the amount in in USD:$1\n",
            "$1.0 is equivalent to £0.75\n"
          ]
        }
      ]
    },
    {
      "cell_type": "markdown",
      "source": [
        "**QN.4 Converting the marks to the corresponding grade**"
      ],
      "metadata": {
        "id": "oQX6aqVx7T-G"
      }
    },
    {
      "cell_type": "code",
      "source": [
        "# --- Grade Converter Program ---\n",
        "\n",
        "# 1. Get input from the user\n",
        "module_name = input(\"Please enter the module name: \")\n",
        "\n",
        "# Use a try-except block to handle cases where the user enters non-numeric input for the mark\n",
        "try:\n",
        "    mark = int(input(f\"Please enter the mark for {module_name}: \"))\n",
        "\n",
        "    # 2. Determine the grade based on the mark\n",
        "    grade = '' # Create an empty variable to hold the grade\n",
        "\n",
        "    if mark > 70:\n",
        "        grade = 'A'\n",
        "    elif mark >= 60 and mark <= 70: # Between 60 and 70 (inclusive)\n",
        "        grade = 'B'\n",
        "    elif mark >= 50 and mark < 60:  # Between 50 and 59\n",
        "        grade = 'C'\n",
        "    elif mark >= 40 and mark < 50:  # Between 40 and 49\n",
        "        grade = 'D'\n",
        "    else:                           # Less than 40\n",
        "        grade = 'F'\n",
        "\n",
        "    # 3. Display the final result\n",
        "    print(\"\\n--- Result ---\")\n",
        "    print(f\"Module: {module_name}\")\n",
        "    print(f\"Mark: {mark}\")\n",
        "    print(f\"Grade: {grade}\")\n",
        "\n",
        "except ValueError:\n",
        "    print(\"\\nError: Invalid input. Please enter a whole number for the mark.\")"
      ],
      "metadata": {
        "colab": {
          "base_uri": "https://localhost:8080/"
        },
        "id": "N7qIMQ648caR",
        "outputId": "149b6a86-ca43-478a-f5a3-f49b8230d98d"
      },
      "execution_count": null,
      "outputs": [
        {
          "output_type": "stream",
          "name": "stdout",
          "text": [
            "Please enter the module name: data\n",
            "Please enter the mark for data: 85\n",
            "\n",
            "--- Result ---\n",
            "Module: data\n",
            "Mark: 85\n",
            "Grade: A\n"
          ]
        }
      ]
    }
  ]
}