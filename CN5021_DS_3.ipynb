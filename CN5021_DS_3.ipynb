{
  "nbformat": 4,
  "nbformat_minor": 0,
  "metadata": {
    "colab": {
      "provenance": [],
      "authorship_tag": "ABX9TyO+gD5xmvnI4f4c+nzvaaKJ",
      "include_colab_link": true
    },
    "kernelspec": {
      "name": "python3",
      "display_name": "Python 3"
    },
    "language_info": {
      "name": "python"
    }
  },
  "cells": [
    {
      "cell_type": "markdown",
      "metadata": {
        "id": "view-in-github",
        "colab_type": "text"
      },
      "source": [
        "<a href=\"https://colab.research.google.com/github/surajkr214/Programming-For-Data-Science/blob/main/CN5021_DS_3.ipynb\" target=\"_parent\"><img src=\"https://colab.research.google.com/assets/colab-badge.svg\" alt=\"Open In Colab\"/></a>"
      ]
    },
    {
      "cell_type": "markdown",
      "source": [
        "# **QN.1 ..Data Types and Conditional Statements**"
      ],
      "metadata": {
        "id": "N2vTQNtuaSOp"
      }
    },
    {
      "cell_type": "code",
      "execution_count": null,
      "metadata": {
        "colab": {
          "base_uri": "https://localhost:8080/"
        },
        "id": "NtazsaZbZWSK",
        "outputId": "b2a125f3-d4bc-4ff0-86f9-d6d162960526"
      },
      "outputs": [
        {
          "output_type": "execute_result",
          "data": {
            "text/plain": [
              "int"
            ]
          },
          "metadata": {},
          "execution_count": 11
        }
      ],
      "source": [
        "# type() function\n",
        "type(4)"
      ]
    },
    {
      "cell_type": "code",
      "source": [
        "type(5.0)"
      ],
      "metadata": {
        "colab": {
          "base_uri": "https://localhost:8080/"
        },
        "id": "lPYZjdzCbIy8",
        "outputId": "e2c64ea9-ccbd-4055-c7ca-0eb5ccd0eea8"
      },
      "execution_count": null,
      "outputs": [
        {
          "output_type": "execute_result",
          "data": {
            "text/plain": [
              "float"
            ]
          },
          "metadata": {},
          "execution_count": 12
        }
      ]
    },
    {
      "cell_type": "code",
      "source": [
        "type(\"Hello\")"
      ],
      "metadata": {
        "colab": {
          "base_uri": "https://localhost:8080/"
        },
        "id": "aFrK_Qq7bKh7",
        "outputId": "dfaedc85-f9bf-4289-f01d-c21de835648d"
      },
      "execution_count": null,
      "outputs": [
        {
          "output_type": "execute_result",
          "data": {
            "text/plain": [
              "str"
            ]
          },
          "metadata": {},
          "execution_count": 13
        }
      ]
    },
    {
      "cell_type": "markdown",
      "source": [
        "# **Strings**"
      ],
      "metadata": {
        "id": "8eoOxfoZbOuh"
      }
    },
    {
      "cell_type": "code",
      "source": [
        "\"Hello\" + \" \" + \"World\""
      ],
      "metadata": {
        "colab": {
          "base_uri": "https://localhost:8080/",
          "height": 35
        },
        "id": "dt5l0UAPbMMx",
        "outputId": "f637f3b8-5d04-4e7d-cdeb-bc0139ef86d8"
      },
      "execution_count": null,
      "outputs": [
        {
          "output_type": "execute_result",
          "data": {
            "text/plain": [
              "'Hello World'"
            ],
            "application/vnd.google.colaboratory.intrinsic+json": {
              "type": "string"
            }
          },
          "metadata": {},
          "execution_count": 14
        }
      ]
    },
    {
      "cell_type": "code",
      "source": [
        "name = \"CN5021\"\n",
        "\"Hello\" + \" \" + name"
      ],
      "metadata": {
        "colab": {
          "base_uri": "https://localhost:8080/",
          "height": 35
        },
        "id": "OljxuWMnbRpm",
        "outputId": "50cbc691-70a8-40ac-c6c2-86693bae115a"
      },
      "execution_count": null,
      "outputs": [
        {
          "output_type": "execute_result",
          "data": {
            "text/plain": [
              "'Hello CN5021'"
            ],
            "application/vnd.google.colaboratory.intrinsic+json": {
              "type": "string"
            }
          },
          "metadata": {},
          "execution_count": 15
        }
      ]
    },
    {
      "cell_type": "code",
      "source": [
        "\"Hello World\".upper()\n"
      ],
      "metadata": {
        "colab": {
          "base_uri": "https://localhost:8080/",
          "height": 35
        },
        "id": "zz9kOY7JbVXO",
        "outputId": "73da06f0-b54d-4e83-ced8-1132aea9067e"
      },
      "execution_count": null,
      "outputs": [
        {
          "output_type": "execute_result",
          "data": {
            "text/plain": [
              "'HELLO WORLD'"
            ],
            "application/vnd.google.colaboratory.intrinsic+json": {
              "type": "string"
            }
          },
          "metadata": {},
          "execution_count": 16
        }
      ]
    },
    {
      "cell_type": "code",
      "source": [
        "#  changes the type to Strings\n",
        "\n",
        "\"1\""
      ],
      "metadata": {
        "colab": {
          "base_uri": "https://localhost:8080/",
          "height": 35
        },
        "id": "tkOynYFlbXZT",
        "outputId": "14a2a23d-8f31-46a2-e0bb-5e989f835f59"
      },
      "execution_count": null,
      "outputs": [
        {
          "output_type": "execute_result",
          "data": {
            "text/plain": [
              "'1'"
            ],
            "application/vnd.google.colaboratory.intrinsic+json": {
              "type": "string"
            }
          },
          "metadata": {},
          "execution_count": 20
        }
      ]
    },
    {
      "cell_type": "code",
      "source": [
        "type(\"1\")"
      ],
      "metadata": {
        "colab": {
          "base_uri": "https://localhost:8080/"
        },
        "id": "CDOO104pbwW-",
        "outputId": "68556ecf-3647-49cd-f955-e1b5e489f0f7"
      },
      "execution_count": null,
      "outputs": [
        {
          "output_type": "execute_result",
          "data": {
            "text/plain": [
              "str"
            ]
          },
          "metadata": {},
          "execution_count": 22
        }
      ]
    },
    {
      "cell_type": "code",
      "source": [
        "\"Hello\" + 5021"
      ],
      "metadata": {
        "colab": {
          "base_uri": "https://localhost:8080/",
          "height": 141
        },
        "id": "9KY2JjaPbzXJ",
        "outputId": "da4436e7-e8f7-4422-8cd7-4e517cc30972"
      },
      "execution_count": null,
      "outputs": [
        {
          "output_type": "error",
          "ename": "TypeError",
          "evalue": "can only concatenate str (not \"int\") to str",
          "traceback": [
            "\u001b[0;31m---------------------------------------------------------------------------\u001b[0m",
            "\u001b[0;31mTypeError\u001b[0m                                 Traceback (most recent call last)",
            "\u001b[0;32m/tmp/ipython-input-3009231606.py\u001b[0m in \u001b[0;36m<cell line: 0>\u001b[0;34m()\u001b[0m\n\u001b[0;32m----> 1\u001b[0;31m \u001b[0;34m\"Hello\"\u001b[0m \u001b[0;34m+\u001b[0m \u001b[0;36m5021\u001b[0m\u001b[0;34m\u001b[0m\u001b[0;34m\u001b[0m\u001b[0m\n\u001b[0m",
            "\u001b[0;31mTypeError\u001b[0m: can only concatenate str (not \"int\") to str"
          ]
        }
      ]
    },
    {
      "cell_type": "code",
      "source": [
        "\"Hello \" + str(5021)"
      ],
      "metadata": {
        "colab": {
          "base_uri": "https://localhost:8080/",
          "height": 35
        },
        "id": "nE6C4BsVb1JK",
        "outputId": "7928636b-4514-4489-fa89-625ccdecebf6"
      },
      "execution_count": null,
      "outputs": [
        {
          "output_type": "execute_result",
          "data": {
            "text/plain": [
              "'Hello 5021'"
            ],
            "application/vnd.google.colaboratory.intrinsic+json": {
              "type": "string"
            }
          },
          "metadata": {},
          "execution_count": 26
        }
      ]
    },
    {
      "cell_type": "code",
      "source": [
        "# Using the length function len()\n",
        "# concatenating using the * sign\n",
        "\n",
        "len(\"Hello CN5021\")\n",
        "\n"
      ],
      "metadata": {
        "colab": {
          "base_uri": "https://localhost:8080/"
        },
        "id": "9ZEQE_W_b8l0",
        "outputId": "f9c21113-1a82-4dd1-9f04-8285a9ce50a9"
      },
      "execution_count": null,
      "outputs": [
        {
          "output_type": "execute_result",
          "data": {
            "text/plain": [
              "12"
            ]
          },
          "metadata": {},
          "execution_count": 27
        }
      ]
    },
    {
      "cell_type": "code",
      "source": [
        "text = \"Hello\"\n",
        "module = \"CN5021\"\n",
        "\n",
        "(text + module) * 10"
      ],
      "metadata": {
        "colab": {
          "base_uri": "https://localhost:8080/",
          "height": 35
        },
        "id": "FLm_S9EbcRPy",
        "outputId": "0d058ebe-0a03-4a0e-b5d2-ba07a8b26b22"
      },
      "execution_count": null,
      "outputs": [
        {
          "output_type": "execute_result",
          "data": {
            "text/plain": [
              "'HelloCN5021HelloCN5021HelloCN5021HelloCN5021HelloCN5021HelloCN5021HelloCN5021HelloCN5021HelloCN5021HelloCN5021'"
            ],
            "application/vnd.google.colaboratory.intrinsic+json": {
              "type": "string"
            }
          },
          "metadata": {},
          "execution_count": 28
        }
      ]
    },
    {
      "cell_type": "code",
      "source": [
        "(text + module + \" \") * 10"
      ],
      "metadata": {
        "colab": {
          "base_uri": "https://localhost:8080/",
          "height": 35
        },
        "id": "VqRlzw-PcU5c",
        "outputId": "99ac4ca5-075f-470e-d251-1ad775b90556"
      },
      "execution_count": null,
      "outputs": [
        {
          "output_type": "execute_result",
          "data": {
            "text/plain": [
              "'HelloCN5021 HelloCN5021 HelloCN5021 HelloCN5021 HelloCN5021 HelloCN5021 HelloCN5021 HelloCN5021 HelloCN5021 HelloCN5021 '"
            ],
            "application/vnd.google.colaboratory.intrinsic+json": {
              "type": "string"
            }
          },
          "metadata": {},
          "execution_count": 29
        }
      ]
    },
    {
      "cell_type": "code",
      "source": [
        "# Using built-in function .upper()\n",
        "# Length calculation of concatenated text\n",
        "\n",
        "len((text + module + \" \") * 10)"
      ],
      "metadata": {
        "colab": {
          "base_uri": "https://localhost:8080/"
        },
        "id": "qxCN0CkAcZF4",
        "outputId": "814b1ce1-d93f-470a-9830-cca30374c054"
      },
      "execution_count": null,
      "outputs": [
        {
          "output_type": "execute_result",
          "data": {
            "text/plain": [
              "120"
            ]
          },
          "metadata": {},
          "execution_count": 31
        }
      ]
    },
    {
      "cell_type": "code",
      "source": [
        "((text + module + \" \") * 10).upper()"
      ],
      "metadata": {
        "colab": {
          "base_uri": "https://localhost:8080/",
          "height": 35
        },
        "id": "66WwgJpMc36A",
        "outputId": "46755bff-1cc5-4099-8cc6-caa0fd724103"
      },
      "execution_count": null,
      "outputs": [
        {
          "output_type": "execute_result",
          "data": {
            "text/plain": [
              "'HELLOCN5021 HELLOCN5021 HELLOCN5021 HELLOCN5021 HELLOCN5021 HELLOCN5021 HELLOCN5021 HELLOCN5021 HELLOCN5021 HELLOCN5021 '"
            ],
            "application/vnd.google.colaboratory.intrinsic+json": {
              "type": "string"
            }
          },
          "metadata": {},
          "execution_count": 32
        }
      ]
    },
    {
      "cell_type": "markdown",
      "source": [
        "# **Booleans**"
      ],
      "metadata": {
        "id": "JIwjZTS3dAFz"
      }
    },
    {
      "cell_type": "code",
      "source": [
        "True"
      ],
      "metadata": {
        "colab": {
          "base_uri": "https://localhost:8080/"
        },
        "id": "ucd135Jpc55-",
        "outputId": "f48ad57c-ea60-4f10-c915-de84c7df177b"
      },
      "execution_count": null,
      "outputs": [
        {
          "output_type": "execute_result",
          "data": {
            "text/plain": [
              "True"
            ]
          },
          "metadata": {},
          "execution_count": 33
        }
      ]
    },
    {
      "cell_type": "code",
      "source": [
        "type(true)"
      ],
      "metadata": {
        "colab": {
          "base_uri": "https://localhost:8080/",
          "height": 141
        },
        "id": "Ozjzg_zOdbIg",
        "outputId": "dd023ee0-4a2e-4aea-d38b-93a62d662f89"
      },
      "execution_count": null,
      "outputs": [
        {
          "output_type": "error",
          "ename": "NameError",
          "evalue": "name 'true' is not defined",
          "traceback": [
            "\u001b[0;31m---------------------------------------------------------------------------\u001b[0m",
            "\u001b[0;31mNameError\u001b[0m                                 Traceback (most recent call last)",
            "\u001b[0;32m/tmp/ipython-input-1822790664.py\u001b[0m in \u001b[0;36m<cell line: 0>\u001b[0;34m()\u001b[0m\n\u001b[0;32m----> 1\u001b[0;31m \u001b[0mtype\u001b[0m\u001b[0;34m(\u001b[0m\u001b[0mtrue\u001b[0m\u001b[0;34m)\u001b[0m\u001b[0;34m\u001b[0m\u001b[0;34m\u001b[0m\u001b[0m\n\u001b[0m",
            "\u001b[0;31mNameError\u001b[0m: name 'true' is not defined"
          ]
        }
      ]
    },
    {
      "cell_type": "code",
      "source": [
        "# Testing for Equality\n",
        "\n",
        "0 == 1"
      ],
      "metadata": {
        "colab": {
          "base_uri": "https://localhost:8080/"
        },
        "id": "6ORk4q0GddVJ",
        "outputId": "fc5272d1-6d6a-4835-b96a-2087131c6f65"
      },
      "execution_count": null,
      "outputs": [
        {
          "output_type": "execute_result",
          "data": {
            "text/plain": [
              "False"
            ]
          },
          "metadata": {},
          "execution_count": 41
        }
      ]
    },
    {
      "cell_type": "code",
      "source": [
        "1 == 1"
      ],
      "metadata": {
        "colab": {
          "base_uri": "https://localhost:8080/"
        },
        "id": "sJJQ4UPNedTr",
        "outputId": "66fef2a4-09b9-4c2f-c579-b08d383c793d"
      },
      "execution_count": null,
      "outputs": [
        {
          "output_type": "execute_result",
          "data": {
            "text/plain": [
              "True"
            ]
          },
          "metadata": {},
          "execution_count": 42
        }
      ]
    },
    {
      "cell_type": "code",
      "source": [
        "5 > 4"
      ],
      "metadata": {
        "colab": {
          "base_uri": "https://localhost:8080/"
        },
        "id": "MgWq9eTIehKC",
        "outputId": "8b02722e-caaf-4f12-c1de-54e7d8075869"
      },
      "execution_count": null,
      "outputs": [
        {
          "output_type": "execute_result",
          "data": {
            "text/plain": [
              "True"
            ]
          },
          "metadata": {},
          "execution_count": 44
        }
      ]
    },
    {
      "cell_type": "code",
      "source": [
        "0.5 < 1"
      ],
      "metadata": {
        "colab": {
          "base_uri": "https://localhost:8080/"
        },
        "id": "GQ-Ab8hIelGO",
        "outputId": "9aacbb6b-b0cf-4cd1-fad1-50438106a62c"
      },
      "execution_count": null,
      "outputs": [
        {
          "output_type": "execute_result",
          "data": {
            "text/plain": [
              "True"
            ]
          },
          "metadata": {},
          "execution_count": 46
        }
      ]
    },
    {
      "cell_type": "code",
      "source": [
        "5 >= 3"
      ],
      "metadata": {
        "colab": {
          "base_uri": "https://localhost:8080/"
        },
        "id": "p1GtVoI6eq_Y",
        "outputId": "018a132f-b7df-4914-c8ea-148c32220ec3"
      },
      "execution_count": null,
      "outputs": [
        {
          "output_type": "execute_result",
          "data": {
            "text/plain": [
              "True"
            ]
          },
          "metadata": {},
          "execution_count": 48
        }
      ]
    },
    {
      "cell_type": "code",
      "source": [
        "\"Text\"==\"text\""
      ],
      "metadata": {
        "colab": {
          "base_uri": "https://localhost:8080/"
        },
        "id": "CP5QfHbre3I6",
        "outputId": "acd27f9c-111f-4e29-b234-0d613145f884"
      },
      "execution_count": null,
      "outputs": [
        {
          "output_type": "execute_result",
          "data": {
            "text/plain": [
              "False"
            ]
          },
          "metadata": {},
          "execution_count": 50
        }
      ]
    },
    {
      "cell_type": "code",
      "source": [
        "# Testing for Containment using 'in' & 'not in'\n",
        "\n",
        "\"N\" in \"CN5021\""
      ],
      "metadata": {
        "colab": {
          "base_uri": "https://localhost:8080/"
        },
        "id": "nmNhlvdde6ZK",
        "outputId": "f8233991-d3b6-4812-a620-73413118c7f5"
      },
      "execution_count": null,
      "outputs": [
        {
          "output_type": "execute_result",
          "data": {
            "text/plain": [
              "True"
            ]
          },
          "metadata": {},
          "execution_count": 51
        }
      ]
    },
    {
      "cell_type": "code",
      "source": [
        "\"A\" not in \"CN5021\""
      ],
      "metadata": {
        "colab": {
          "base_uri": "https://localhost:8080/"
        },
        "id": "WKyvaHCnfFdQ",
        "outputId": "a194bfac-be3a-4da5-eb6a-9e4f0c78e5d7"
      },
      "execution_count": null,
      "outputs": [
        {
          "output_type": "execute_result",
          "data": {
            "text/plain": [
              "True"
            ]
          },
          "metadata": {},
          "execution_count": 52
        }
      ]
    },
    {
      "cell_type": "code",
      "source": [
        "# Booleans for making choices: Conditional Statements\n",
        "\n",
        "if 10 > 5:\n",
        "    print(\"Ten is greater than five\")"
      ],
      "metadata": {
        "colab": {
          "base_uri": "https://localhost:8080/"
        },
        "id": "ZorpaDtifGyb",
        "outputId": "2184acf5-3f10-477f-f3ab-7eb0221bf6d0"
      },
      "execution_count": null,
      "outputs": [
        {
          "output_type": "stream",
          "name": "stdout",
          "text": [
            "Ten is greater than five\n"
          ]
        }
      ]
    },
    {
      "cell_type": "code",
      "source": [
        "if \"log\" in \"logbook\":\n",
        "    print(\"Log found\")"
      ],
      "metadata": {
        "colab": {
          "base_uri": "https://localhost:8080/"
        },
        "id": "2SOZ58qofqER",
        "outputId": "a89df845-fee4-49db-c0ed-7eb63c8e4d99"
      },
      "execution_count": null,
      "outputs": [
        {
          "output_type": "stream",
          "name": "stdout",
          "text": [
            "Log found\n"
          ]
        }
      ]
    },
    {
      "cell_type": "markdown",
      "source": [
        "**Conditional Statements**"
      ],
      "metadata": {
        "id": "7Pp27Qanfxsb"
      }
    },
    {
      "cell_type": "code",
      "source": [
        "# Conditional Statements\n",
        "\n",
        "age = 19\n",
        "if age >= 18:\n",
        "    print(\"You are old enough to apply for a driver's license\")\n",
        "else:\n",
        "    print(\"You are cannot apply for a driver's license\")"
      ],
      "metadata": {
        "colab": {
          "base_uri": "https://localhost:8080/"
        },
        "id": "2o4ntcpxfs3H",
        "outputId": "6f2128ef-824d-4ceb-8af5-b44dc6ab6fb9"
      },
      "execution_count": null,
      "outputs": [
        {
          "output_type": "stream",
          "name": "stdout",
          "text": [
            "You are old enough to apply for a driver's license\n"
          ]
        }
      ]
    },
    {
      "cell_type": "code",
      "source": [
        "# Using the 'and' keyword to combine boolean expressions.\n",
        "\n",
        "x = 10\n",
        "if x > 5 and x < 15:\n",
        "    print(\"The number is between 5 and 15\")"
      ],
      "metadata": {
        "colab": {
          "base_uri": "https://localhost:8080/"
        },
        "id": "amtFvnAef5fq",
        "outputId": "15da9f79-0c59-4d7d-9846-6c785f4e8aeb"
      },
      "execution_count": null,
      "outputs": [
        {
          "output_type": "stream",
          "name": "stdout",
          "text": [
            "The number is between 5 and 15\n"
          ]
        }
      ]
    },
    {
      "cell_type": "code",
      "source": [
        "age = 19\n",
        "theory_test = \"passed\"\n",
        "if age >= 18 and theory_test == \"passed\":\n",
        "    print(\"You can apply for a practical test for the driver's license\")\n",
        "else:\n",
        "    print(\"You cannot apply for the practical test\")"
      ],
      "metadata": {
        "colab": {
          "base_uri": "https://localhost:8080/"
        },
        "id": "g3bUhP6ugNZZ",
        "outputId": "be214fb6-8b4e-439b-ba55-a878157a65d8"
      },
      "execution_count": null,
      "outputs": [
        {
          "output_type": "stream",
          "name": "stdout",
          "text": [
            "You can apply for a practical test for the driver's license\n"
          ]
        }
      ]
    },
    {
      "cell_type": "code",
      "source": [
        "# Using the ‘or’ keyword to combine boolean expressions.\n",
        "\n",
        "if \"log\" in \"logbook\" or \"book\" in \"booklog\":\n",
        "    print(\"word found\")\n",
        "else:\n",
        "    print(\"word not found\")"
      ],
      "metadata": {
        "colab": {
          "base_uri": "https://localhost:8080/"
        },
        "id": "eyTrjj5cgPxG",
        "outputId": "17c95730-d043-4c00-fc97-6cb3fb2b6957"
      },
      "execution_count": null,
      "outputs": [
        {
          "output_type": "stream",
          "name": "stdout",
          "text": [
            "word found\n"
          ]
        }
      ]
    },
    {
      "cell_type": "code",
      "source": [
        "time_hour = 11\n",
        "if time_hour < 9 or time_hour > 17:\n",
        "    print(\"It is not within office hours\")\n",
        "else:\n",
        "    print(\"It is within office hours\")"
      ],
      "metadata": {
        "colab": {
          "base_uri": "https://localhost:8080/"
        },
        "id": "3gSN3igFgZiv",
        "outputId": "f89743ce-1b89-43ac-bed0-b52dee87aba3"
      },
      "execution_count": null,
      "outputs": [
        {
          "output_type": "stream",
          "name": "stdout",
          "text": [
            "It is within office hours\n"
          ]
        }
      ]
    },
    {
      "cell_type": "code",
      "source": [
        "\"\"\"\n",
        "Consider a light bulb which changes\n",
        "colour based on the indoor room\n",
        "temperature.\n",
        "• Temperature less than 16: Blue\n",
        "• Temperature greater than 16 but less than 20:\n",
        "Green\n",
        "• Temperature greater than 20 but less than 24:\n",
        "Yellow\n",
        "• Temperature greater than 24: Red\n",
        "\"\"\"\n",
        "\n",
        "room_temperature = 14\n",
        "if room_temperature < 16:\n",
        "    print(\"The room is too cold\")\n",
        "    print(\"Blue\")\n",
        "elif room_temperature >= 16 and room_temperature < 20:\n",
        "    print(\"The room temperature is ideal\")\n",
        "    print(\"Green\")\n",
        "elif room_temperature >= 20 and room_temperature < 24:\n",
        "    print(\"The room is warm\")\n",
        "    print(\"Yellow\")\n",
        "else:\n",
        "    print(\"The room is too warm\")\n",
        "    print(\"Red\")"
      ],
      "metadata": {
        "colab": {
          "base_uri": "https://localhost:8080/"
        },
        "id": "XNQYPfSHgbfl",
        "outputId": "09af540c-f16e-4165-869c-4ee12bd00caf"
      },
      "execution_count": null,
      "outputs": [
        {
          "output_type": "stream",
          "name": "stdout",
          "text": [
            "The room is too cold\n",
            "Blue\n"
          ]
        }
      ]
    },
    {
      "cell_type": "markdown",
      "source": [
        "# **Iterations & Loops**"
      ],
      "metadata": {
        "id": "8xcTyqvdhxYj"
      }
    },
    {
      "cell_type": "code",
      "source": [
        "# FOR LOOP\n",
        "\n",
        "for i in [5,4,3,2,1]:\n",
        "    print (\"The number is: \", i)\n",
        "print ('Out of Loop!')"
      ],
      "metadata": {
        "colab": {
          "base_uri": "https://localhost:8080/"
        },
        "id": "1uogmoRgg80_",
        "outputId": "6e60d635-2799-4c76-9149-d6393a14e84b"
      },
      "execution_count": null,
      "outputs": [
        {
          "output_type": "stream",
          "name": "stdout",
          "text": [
            "The number is:  5\n",
            "The number is:  4\n",
            "The number is:  3\n",
            "The number is:  2\n",
            "The number is:  1\n",
            "Out of Loop!\n"
          ]
        }
      ]
    },
    {
      "cell_type": "code",
      "source": [
        "# Range in For Loop\n",
        "\n",
        "for x in range(5):\n",
        "    print(\"X: \", x)"
      ],
      "metadata": {
        "colab": {
          "base_uri": "https://localhost:8080/"
        },
        "id": "jxM6Kuz2iJbc",
        "outputId": "60994408-2054-4a3d-854e-8c228c440da7"
      },
      "execution_count": null,
      "outputs": [
        {
          "output_type": "stream",
          "name": "stdout",
          "text": [
            "X:  0\n",
            "X:  1\n",
            "X:  2\n",
            "X:  3\n",
            "X:  4\n"
          ]
        }
      ]
    },
    {
      "cell_type": "code",
      "source": [
        "for x in range(3, 6):\n",
        "    print(\"X: \", x)"
      ],
      "metadata": {
        "colab": {
          "base_uri": "https://localhost:8080/"
        },
        "id": "XuP5QfOyjdSF",
        "outputId": "4d8681a3-2b1d-48dd-97a8-28d52b99b14e"
      },
      "execution_count": null,
      "outputs": [
        {
          "output_type": "stream",
          "name": "stdout",
          "text": [
            "X:  3\n",
            "X:  4\n",
            "X:  5\n"
          ]
        }
      ]
    },
    {
      "cell_type": "code",
      "source": [
        "for x in range(3, 8, 2):\n",
        "    print(\"X: \", x)"
      ],
      "metadata": {
        "colab": {
          "base_uri": "https://localhost:8080/"
        },
        "id": "Y2UZHWb2jfxX",
        "outputId": "0bcbe4e5-6284-4073-884f-630a29abb644"
      },
      "execution_count": null,
      "outputs": [
        {
          "output_type": "stream",
          "name": "stdout",
          "text": [
            "X:  3\n",
            "X:  5\n",
            "X:  7\n"
          ]
        }
      ]
    },
    {
      "cell_type": "code",
      "source": [
        "Friends = [\"Amy\", \"Julie\", \"Ali\", \"Dan\"]\n",
        "for x in Friends:\n",
        "    print(\"Happy New Year \", x)\n",
        "print(\"Done with loops\")"
      ],
      "metadata": {
        "colab": {
          "base_uri": "https://localhost:8080/"
        },
        "id": "0jiZ4iasjr9h",
        "outputId": "3ac25b01-d051-4255-8c55-d97d4eca6e36"
      },
      "execution_count": null,
      "outputs": [
        {
          "output_type": "stream",
          "name": "stdout",
          "text": [
            "Happy New Year  Amy\n",
            "Happy New Year  Julie\n",
            "Happy New Year  Ali\n",
            "Happy New Year  Dan\n",
            "Done with loops\n"
          ]
        }
      ]
    },
    {
      "cell_type": "code",
      "source": [
        "# WHILE LOOP\n",
        "\n",
        "total = 10\n",
        "while(total >= 0):         # Loop Condition\n",
        "    print(\"value of variable is: \", total) # Loop statements\n",
        "    total = total - 1;\n",
        "print(\"Out of Loop\")       # Statements not in the loop"
      ],
      "metadata": {
        "colab": {
          "base_uri": "https://localhost:8080/"
        },
        "id": "4l_FKw05j1a3",
        "outputId": "3bfe97db-42fe-45fc-8a4a-6f1268a14696"
      },
      "execution_count": null,
      "outputs": [
        {
          "output_type": "stream",
          "name": "stdout",
          "text": [
            "value of variable is:  10\n",
            "value of variable is:  9\n",
            "value of variable is:  8\n",
            "value of variable is:  7\n",
            "value of variable is:  6\n",
            "value of variable is:  5\n",
            "value of variable is:  4\n",
            "value of variable is:  3\n",
            "value of variable is:  2\n",
            "value of variable is:  1\n",
            "value of variable is:  0\n",
            "Out of Loop\n"
          ]
        }
      ]
    },
    {
      "cell_type": "markdown",
      "source": [
        "# Indefinite WHILE LOOP\n",
        "\n",
        "total = 10\n",
        "while(total >= 0):\n",
        "    print(\"value of variable is: \", total)\n",
        "\n",
        "print(\"Out of Loop\")"
      ],
      "metadata": {
        "id": "O0jPiRqmk96s"
      }
    },
    {
      "cell_type": "code",
      "source": [
        "# Interactive While Loop\n",
        "\n",
        "mySum = 0\n",
        "myCount = 0;\n",
        "\n",
        "while (True):\n",
        "    newInput = float(input(\"Enter number: \"))\n",
        "    myCount = myCount+1;\n",
        "    mySum = mySum + newInput;\n",
        "    con_ask=input (\"Do you want to continue entering a number? (Y/N)\")\n",
        "    if (con_ask ==\"Y\" or con_ask =='y'):\n",
        "        continue;\n",
        "    else:\n",
        "        break;\n",
        "\n",
        "print(\"Total values enetered are: \", myCount)\n",
        "print(\"Sum is: \", mySum);\n",
        "print(\"Average is: \", mySum/myCount);"
      ],
      "metadata": {
        "colab": {
          "base_uri": "https://localhost:8080/"
        },
        "id": "9jz173xxllrE",
        "outputId": "57f608ad-d9ea-4a11-bc63-bf89d56354ca"
      },
      "execution_count": null,
      "outputs": [
        {
          "output_type": "stream",
          "name": "stdout",
          "text": [
            "Enter number: 5\n",
            "Do you want to continue entering a number? (Y/N)Y\n",
            "Enter number: 2\n",
            "Do you want to continue entering a number? (Y/N)N\n",
            "Total values enetered are:  2\n",
            "Sum is:  7.0\n",
            "Average is:  3.5\n"
          ]
        }
      ]
    },
    {
      "cell_type": "code",
      "source": [
        "# Nested Loops\n",
        "\n",
        "for num in range(10):\n",
        "    for i in range(num):\n",
        "        print (num, end=\" \") #print number\n",
        "    # new line after each row to display pattern correctly\n",
        "    print(\"\\n\")"
      ],
      "metadata": {
        "colab": {
          "base_uri": "https://localhost:8080/"
        },
        "id": "aZv80peFl6lL",
        "outputId": "845c7336-fe8f-4998-b604-cac841d7d4ac"
      },
      "execution_count": null,
      "outputs": [
        {
          "output_type": "stream",
          "name": "stdout",
          "text": [
            "\n",
            "\n",
            "1 \n",
            "\n",
            "2 2 \n",
            "\n",
            "3 3 3 \n",
            "\n",
            "4 4 4 4 \n",
            "\n",
            "5 5 5 5 5 \n",
            "\n",
            "6 6 6 6 6 6 \n",
            "\n",
            "7 7 7 7 7 7 7 \n",
            "\n",
            "8 8 8 8 8 8 8 8 \n",
            "\n",
            "9 9 9 9 9 9 9 9 9 \n",
            "\n"
          ]
        }
      ]
    },
    {
      "cell_type": "code",
      "metadata": {
        "id": "5c66803f",
        "colab": {
          "base_uri": "https://localhost:8080/"
        },
        "outputId": "08d70d74-888e-430b-de75-be03c7edb864"
      },
      "source": [
        "# NESTED LOOPS\n",
        "\n",
        "days = [\"Sunday\", \"Monday\", \"Tuesday\"]\n",
        "Sunday_temp = [10,11,13]\n",
        "Monday_temp = [11,12,13]\n",
        "Tuesday_temp = [12,13,14]\n",
        "\n",
        "for day in days:\n",
        "    print(\"Temp for day \", day, \"is recorded as:\")\n",
        "    averageTemp = 0.0;\n",
        "    count = 0.0;\n",
        "\n",
        "    if (day ==\"Sunday\"):\n",
        "        for temp in Sunday_temp:\n",
        "            print(temp)\n",
        "            averageTemp = averageTemp + temp;\n",
        "            count = count + 1;\n",
        "    elif (day ==\"Monday\"):\n",
        "        for temp in Monday_temp:\n",
        "            print(temp)\n",
        "            averageTemp = averageTemp + temp;\n",
        "            count = count + 1;\n",
        "    else:\n",
        "        for temp in Tuesday_temp:\n",
        "            print(temp)\n",
        "            averageTemp = averageTemp + temp;\n",
        "            count = count + 1;\n",
        "\n",
        "    print(\"Average is :\", averageTemp/count)\n",
        "\n",
        "print(\"Out of all loops\")"
      ],
      "execution_count": 3,
      "outputs": [
        {
          "output_type": "stream",
          "name": "stdout",
          "text": [
            "Temp for day  Sunday is recorded as:\n",
            "10\n",
            "11\n",
            "13\n",
            "Average is : 11.333333333333334\n",
            "Temp for day  Monday is recorded as:\n",
            "11\n",
            "12\n",
            "13\n",
            "Average is : 12.0\n",
            "Temp for day  Tuesday is recorded as:\n",
            "12\n",
            "13\n",
            "14\n",
            "Average is : 13.0\n",
            "Out of all loops\n"
          ]
        }
      ]
    },
    {
      "cell_type": "markdown",
      "source": [
        "# **QN.2**"
      ],
      "metadata": {
        "id": "oC_zdBgC9xnv"
      }
    },
    {
      "cell_type": "code",
      "source": [
        "'''Question 2Write, compile, and test a Python program that declares variables to represent the lengthand width of a\n",
        " room in metres, and the price of carpeting per square metre in poundsterling. Assign appropriate values to the variables.\n",
        " Compute and display, withexplanatory text, the cost of carpeting the room.'''\n",
        "\n",
        " # --- Carpet Cost Calculator ---\n",
        "\n",
        "# 1. Declare and assign values to variables\n",
        "length_metres = 5.5  # Length of the room in metres\n",
        "width_metres = 4.0   # Width of the room in metres\n",
        "price_per_sq_metre = 15.50  # Price of carpet in pounds per square metre\n",
        "\n",
        "# 2. Compute the area of the room\n",
        "area = length_metres * width_metres\n",
        "\n",
        "# 3. Compute the total cost\n",
        "total_cost = area * price_per_sq_metre\n",
        "\n",
        "# 4. Display the results with explanatory text\n",
        "print(\"--- Room and Carpet Details ---\")\n",
        "print(f\"Room Length: {length_metres} metres\")\n",
        "print(f\"Room Width: {width_metres} metres\")\n",
        "print(f\"Room Area: {area} square metres\")\n",
        "print(f\"Carpet Price per Square Metre: £{price_per_sq_metre:.2f}\")\n",
        "print(\"---------------------------------\")\n",
        "print(f\"Total cost to carpet the room: £{total_cost:.2f}\")"
      ],
      "metadata": {
        "id": "0xGne8ucmg84",
        "colab": {
          "base_uri": "https://localhost:8080/"
        },
        "outputId": "5305e6cb-aca7-4240-cd4a-dc3138e09190"
      },
      "execution_count": 4,
      "outputs": [
        {
          "output_type": "stream",
          "name": "stdout",
          "text": [
            "--- Room and Carpet Details ---\n",
            "Room Length: 5.5 metres\n",
            "Room Width: 4.0 metres\n",
            "Room Area: 22.0 square metres\n",
            "Carpet Price per Square Metre: £15.50\n",
            "---------------------------------\n",
            "Total cost to carpet the room: £341.00\n"
          ]
        }
      ]
    },
    {
      "cell_type": "markdown",
      "source": [
        "# **QN.3**"
      ],
      "metadata": {
        "id": "LNTFtk9S_kfq"
      }
    },
    {
      "cell_type": "code",
      "source": [
        "'''Question 3, Write, compile, and test a program that prompts the user for a five-character password,accepts five characters,\n",
        "and then echoes the characters to the screen. Test all fivecharacters. If the characters spell F R A M E, then issue a message\n",
        "that the password isvalid; otherwise issue a message that the password is not valid.'''\n",
        "\n",
        "# --- Password Checker ---\n",
        "\n",
        "# 1. Prompt the user for a password and store their input\n",
        "user_password = input(\"Please enter the five-character password: \")\n",
        "\n",
        "# 2. Check if the entered password matches \"FRAME\"\n",
        "# We use .upper() to make the check case-insensitive (so \"frame\" also works)\n",
        "if user_password.upper() == \"FRAME\":\n",
        "    # 3. If it matches, print a \"valid\" message\n",
        "    print(\"\\nAccess Granted: The password is valid.\")\n",
        "else:\n",
        "    # 4. If it does not match, print a \"not valid\" message\n",
        "    print(\"\\nAccess Denied: The password is not valid.\")"
      ],
      "metadata": {
        "colab": {
          "base_uri": "https://localhost:8080/"
        },
        "id": "Plq-N7k9-qKR",
        "outputId": "6ad76a06-0f44-4e2c-a02a-037d5dd12bb2"
      },
      "execution_count": 8,
      "outputs": [
        {
          "output_type": "stream",
          "name": "stdout",
          "text": [
            "Please enter the five-character password: ,jfvh\n",
            "\n",
            "Access Denied: The password is not valid.\n"
          ]
        }
      ]
    },
    {
      "cell_type": "markdown",
      "source": [
        "# **QN.4**"
      ],
      "metadata": {
        "id": "lS-7ycE3_165"
      }
    },
    {
      "cell_type": "code",
      "source": [
        "'''Question 4\n",
        "Write, compile, and test a program that stores two integers and allows the user to enter acharacter.If the character\n",
        " is A, add the two integers. If it is S, subtract the second integer from thefirst; if it is M, multiply the integers.\n",
        "  Display the results of the arithmetic. If the user entersthe character X, exit the program.'''\n",
        "\n",
        "  # --- Simple Calculator ---\n",
        "\n",
        "# 1. Store two integers in variables\n",
        "num1 = 20\n",
        "num2 = 5\n",
        "\n",
        "print(f\"The program has two numbers stored: {num1} and {num2}.\")\n",
        "print(\"Enter 'A' to add, 'S' to subtract, 'M' to multiply, or 'X' to exit.\")\n",
        "\n",
        "# 2. Create an infinite loop that runs until the user chooses to exit\n",
        "while True:\n",
        "    # 3. Prompt the user for a character\n",
        "    user_choice = input(\"\\nPlease enter your choice (A, S, M, X): \")\n",
        "\n",
        "    # 4. Check the user's choice and perform the corresponding action\n",
        "    # We use .upper() to accept lowercase letters (a, s, m, x) as well\n",
        "    if user_choice.upper() == 'A':\n",
        "        result = num1 + num2\n",
        "        print(f\"Result of Addition ({num1} + {num2}) is: {result}\")\n",
        "    elif user_choice.upper() == 'S':\n",
        "        result = num1 - num2\n",
        "        print(f\"Result of Subtraction ({num1} - {num2}) is: {result}\")\n",
        "    elif user_choice.upper() == 'M':\n",
        "        result = num1 * num2\n",
        "        print(f\"Result of Multiplication ({num1} * {num2}) is: {result}\")\n",
        "    elif user_choice.upper() == 'X':\n",
        "        print(\"Exiting the program. Goodbye!\")\n",
        "        break  # This command breaks out of the while loop\n",
        "    else:\n",
        "        # Handle cases where the input is not one of the valid options\n",
        "        print(\"Invalid character entered. Please try again.\")"
      ],
      "metadata": {
        "colab": {
          "base_uri": "https://localhost:8080/"
        },
        "id": "dXbmGofs_ANt",
        "outputId": "9613949d-0c20-4d5f-d457-49de09fef3c0"
      },
      "execution_count": 10,
      "outputs": [
        {
          "output_type": "stream",
          "name": "stdout",
          "text": [
            "The program has two numbers stored: 20 and 5.\n",
            "Enter 'A' to add, 'S' to subtract, 'M' to multiply, or 'X' to exit.\n",
            "\n",
            "Please enter your choice (A, S, M, X): S\n",
            "Result of Subtraction (20 - 5) is: 15\n",
            "\n",
            "Please enter your choice (A, S, M, X): X\n",
            "Exiting the program. Goodbye!\n"
          ]
        }
      ]
    },
    {
      "cell_type": "code",
      "source": [],
      "metadata": {
        "id": "6533smzYAOGs"
      },
      "execution_count": null,
      "outputs": []
    }
  ]
}