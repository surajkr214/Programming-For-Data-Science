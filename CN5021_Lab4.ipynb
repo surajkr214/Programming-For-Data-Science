{
  "cells": [
    {
      "cell_type": "markdown",
      "metadata": {
        "id": "view-in-github",
        "colab_type": "text"
      },
      "source": [
        "<a href=\"https://colab.research.google.com/github/surajkr214/Programming-For-Data-Science/blob/main/CN5021_Lab4.ipynb\" target=\"_parent\"><img src=\"https://colab.research.google.com/assets/colab-badge.svg\" alt=\"Open In Colab\"/></a>"
      ]
    },
    {
      "cell_type": "markdown",
      "metadata": {
        "id": "HPcErVOPQgdJ"
      },
      "source": [
        "<h1>CN5021_Lab4: Functions and Data Structures</h1>\n",
        "\n",
        "This notebook contains the code examples from the Week 4 lecture slides for the CN5021 Programming for Data Science module."
      ]
    },
    {
      "cell_type": "markdown",
      "metadata": {
        "id": "Mb5EAoIFQgdL"
      },
      "source": [
        "---"
      ]
    },
    {
      "cell_type": "markdown",
      "metadata": {
        "id": "sckKiF2_QgdM"
      },
      "source": [
        "<h2>Part 1: Functions</h2>\n",
        "\n",
        "This section covers the examples from the \"Week 4 Lecture - Functions\" slides."
      ]
    },
    {
      "cell_type": "markdown",
      "metadata": {
        "id": "6T-uqnt4QgdM"
      },
      "source": [
        "<h4>Stored (and reused) Steps</h4>\n",
        "\n",
        "A function is a reusable piece of code. Below is a simple function `hello` that prints two lines. The main program calls this function."
      ]
    },
    {
      "cell_type": "code",
      "execution_count": null,
      "metadata": {
        "colab": {
          "base_uri": "https://localhost:8080/"
        },
        "id": "hAmEApr3QgdN",
        "outputId": "b7818470-d1a7-4da3-bf17-e261740cad2e"
      },
      "outputs": [
        {
          "output_type": "stream",
          "name": "stdout",
          "text": [
            "Start\n",
            "Going to call function\n",
            "Hello\n",
            "Class\n",
            "Out of function\n",
            "program finished\n"
          ]
        }
      ],
      "source": [
        "# A simple function definition\n",
        "def hello():\n",
        "  # Body of the function\n",
        "  print('Hello')\n",
        "  print('Class')\n",
        "\n",
        "# Main program starts here\n",
        "print(\"Start\")\n",
        "print(\"Going to call function\")\n",
        "# Calling the function\n",
        "hello()\n",
        "print(\"Out of function\")\n",
        "print(\"program finished\")"
      ]
    },
    {
      "cell_type": "markdown",
      "metadata": {
        "id": "HV1fFW-9QgdO"
      },
      "source": [
        "<h4>How Functions Work: Example with Parameters</h4>\n",
        "This example defines a function `printme` that accepts a parameter (a string) and prints it."
      ]
    },
    {
      "cell_type": "code",
      "execution_count": null,
      "metadata": {
        "colab": {
          "base_uri": "https://localhost:8080/"
        },
        "id": "H0oH0qPCQgdP",
        "outputId": "9464cbc5-3300-4937-f61f-f2f1da993816"
      },
      "outputs": [
        {
          "output_type": "stream",
          "name": "stdout",
          "text": [
            "I'm first call to user defined function!\n",
            "Again second call to the same function\n"
          ]
        }
      ],
      "source": [
        "# Function definition is here\n",
        "# 'str_input' is a parameter to avoid conflict with the built-in str() function\n",
        "def printme(str_input):\n",
        "  \"This prints a passed string into this function\"\n",
        "  print(str_input)\n",
        "  return\n",
        "\n",
        "# Now you can call the printme function\n",
        "printme(\"I'm first call to user defined function!\")\n",
        "printme(\"Again second call to the same function\")"
      ]
    },
    {
      "cell_type": "markdown",
      "metadata": {
        "id": "4njVjM75QgdQ"
      },
      "source": [
        "<h4>Example: Greeting Valentines using Functions</h4>\n",
        "This demonstrates how to reuse the `greet` function to print a custom greeting for different names."
      ]
    },
    {
      "cell_type": "code",
      "execution_count": null,
      "metadata": {
        "colab": {
          "base_uri": "https://localhost:8080/"
        },
        "id": "btq6KCpyQgdQ",
        "outputId": "67a78a4f-c887-4114-ca51-767951a2769e"
      },
      "outputs": [
        {
          "output_type": "stream",
          "name": "stdout",
          "text": [
            "Hello Annie ,\t Happy valentines!\n",
            "Hello Ali ,\t Happy valentines!\n",
            "Hello mag ,\t Happy valentines!\n",
            "Hello julie ,\t Happy valentines!\n"
          ]
        }
      ],
      "source": [
        "# A function that says HELLO to you\n",
        "def greet(name_of_student):\n",
        "  print(\"Hello\", name_of_student, \",\\t Happy valentines!\")\n",
        "\n",
        "# OUR PROGRAM\n",
        "# Reusing the greet function multiple times\n",
        "greet(\"Annie\")\n",
        "greet(\"Ali\")\n",
        "greet(\"mag\")\n",
        "greet(\"julie\")\n",
        "\n",
        "# The idea is we can reuse the same code instead of writing it again."
      ]
    },
    {
      "cell_type": "markdown",
      "metadata": {
        "id": "W8nbdDjUQgdR"
      },
      "source": [
        "<h4>Example: Interactive Greeting using Functions</h4>\n",
        "This program uses the same `greet` function inside a `while` loop to interactively ask the user for names and greet them until they choose to stop."
      ]
    },
    {
      "cell_type": "code",
      "execution_count": null,
      "metadata": {
        "colab": {
          "base_uri": "https://localhost:8080/"
        },
        "id": "5BXFpbX9QgdR",
        "outputId": "52c3df1f-8ec2-4fe5-f08c-ac6244defda7"
      },
      "outputs": [
        {
          "name": "stdout",
          "output_type": "stream",
          "text": [
            "Enter Name to Greet Valentines: alexa\n",
            "Hello alexa ,\t Happy valentines!\n",
            "Do you want to continue Greeting? (Y/N) n\n"
          ]
        }
      ],
      "source": [
        "# Interactive Greeting program\n",
        "\n",
        "def greet(name_of_student):\n",
        "  print(\"Hello\", name_of_student, \",\\t Happy valentines!\")\n",
        "\n",
        "# OUR PROGRAM\n",
        "while (True):\n",
        "  new_name = input(\"Enter Name to Greet Valentines: \")\n",
        "\n",
        "  # Calling the function\n",
        "  greet(new_name)\n",
        "\n",
        "  con_ask = input(\"Do you want to continue Greeting? (Y/N) \")\n",
        "\n",
        "  if (con_ask.upper() == \"Y\"):\n",
        "    continue\n",
        "  else:\n",
        "    break\n",
        "\n",
        "# The idea is we can reuse the same code instead of writing it again."
      ]
    },
    {
      "cell_type": "markdown",
      "metadata": {
        "id": "16gyZwNzQgdR"
      },
      "source": [
        "<h4>Returning a Value from a Function</h4>\n",
        "Functions can process data and return a result. The `absolute_value` function returns the absolute value of a number."
      ]
    },
    {
      "cell_type": "code",
      "execution_count": null,
      "metadata": {
        "colab": {
          "base_uri": "https://localhost:8080/"
        },
        "id": "vFCctq1UQgdS",
        "outputId": "6c284ad2-1e2b-4c02-9a57-1f16506bfb60"
      },
      "outputs": [
        {
          "output_type": "stream",
          "name": "stdout",
          "text": [
            "2\n",
            "10\n"
          ]
        }
      ],
      "source": [
        "def absolute_value(myInput):\n",
        "  \"\"\"This function returns the absolute value of the entered myInputber\"\"\"\n",
        "  if myInput >= 0:\n",
        "    return myInput\n",
        "  else:\n",
        "    return -myInput\n",
        "\n",
        "# Calling the function and printing the returned value\n",
        "print(absolute_value(2))\n",
        "print(absolute_value(-10))"
      ]
    },
    {
      "cell_type": "markdown",
      "metadata": {
        "id": "yvV0AHcvQgdS"
      },
      "source": [
        "<h4>Finding Maximum - User Defined Function</h4>\n",
        "This example shows how to write a function from scratch to find the maximum value in a list by iterating through its elements."
      ]
    },
    {
      "cell_type": "code",
      "execution_count": null,
      "metadata": {
        "colab": {
          "base_uri": "https://localhost:8080/"
        },
        "id": "CFiyN9P-QgdS",
        "outputId": "5b3de773-a9e7-49cf-f50d-f5bd61fb21e7"
      },
      "outputs": [
        {
          "output_type": "stream",
          "name": "stdout",
          "text": [
            "Lets call a function and find max of temp\n",
            "The max temp is:  200\n",
            "End!\n"
          ]
        }
      ],
      "source": [
        "# A function that computes the MAX of values in a list\n",
        "def max_of_temp(temp_of_week):\n",
        "  my_max = temp_of_week[0] # Initialize with the first element\n",
        "  for temp_of_day in temp_of_week:\n",
        "    if(temp_of_day > my_max):\n",
        "      my_max = temp_of_day\n",
        "  return my_max\n",
        "\n",
        "# OUR PROGRAM\n",
        "# Temp of seven days\n",
        "data = [100, 40, 50, 60, 70, 80, 200]\n",
        "\n",
        "print(\"Lets call a function and find max of temp\")\n",
        "max_of_data = max_of_temp(data)\n",
        "print(\"The max temp is: \", max_of_data)\n",
        "print(\"End!\")"
      ]
    },
    {
      "cell_type": "markdown",
      "metadata": {
        "id": "yufIB42pQgdS"
      },
      "source": [
        "<h4>Finding Maximum - Built-in Function</h4>\n",
        "Python has a built-in `max()` function that makes finding the maximum value much easier. This function wraps the built-in function."
      ]
    },
    {
      "cell_type": "code",
      "execution_count": null,
      "metadata": {
        "colab": {
          "base_uri": "https://localhost:8080/"
        },
        "id": "vD6P6-O1QgdS",
        "outputId": "111d934e-169d-4ef0-9eb8-4d7a6a1f3adb"
      },
      "outputs": [
        {
          "output_type": "stream",
          "name": "stdout",
          "text": [
            "Lets call a function and find max of temp\n",
            "The max temp is:  200\n",
            "End!\n"
          ]
        }
      ],
      "source": [
        "# A function that computes the MAX of values in a list using the built-in max()\n",
        "def max_of_temp(temp_of_week):\n",
        "  return max(temp_of_week)\n",
        "\n",
        "# OUR PROGRAM\n",
        "# Temp of seven days\n",
        "data = [100, 40, 50, 60, 70, 80, 200]\n",
        "\n",
        "print(\"Lets call a function and find max of temp\")\n",
        "max_of_data = max_of_temp(data)\n",
        "print(\"The max temp is: \", max_of_data)\n",
        "print(\"End!\")\n",
        "# Using built-in functions can make life easier!"
      ]
    },
    {
      "cell_type": "markdown",
      "metadata": {
        "id": "npiybLsrQgdT"
      },
      "source": [
        "<h4>Case Study: Calculating Average Temperatures</h4>"
      ]
    },
    {
      "cell_type": "markdown",
      "metadata": {
        "id": "YqUE80PkQgdT"
      },
      "source": [
        "<h5>Version 1: Using Nested Loops (Complex)</h5>\n",
        "This is the less efficient way to solve the problem, using hardcoded logic inside nested loops."
      ]
    },
    {
      "cell_type": "code",
      "execution_count": null,
      "metadata": {
        "colab": {
          "base_uri": "https://localhost:8080/"
        },
        "id": "i_l3sEcTQgdT",
        "outputId": "a69a75db-ded8-4106-d1d4-df21c2fcdcd2"
      },
      "outputs": [
        {
          "output_type": "stream",
          "name": "stdout",
          "text": [
            "Temp for day Sunday is recorded as:\n",
            "10\n",
            "11\n",
            "13\n",
            "Average is : 11.333333333333334\n",
            "Temp for day Monday is recorded as:\n",
            "11\n",
            "12\n",
            "13\n",
            "Average is : 12.0\n",
            "Temp for day Tuesday is recorded as:\n",
            "12\n",
            "13\n",
            "14\n",
            "Average is : 13.0\n",
            "Out of all loops\n"
          ]
        }
      ],
      "source": [
        "# Data for the case study\n",
        "days = [\"Sunday\", \"Monday\", \"Tuesday\"]\n",
        "Sunday_temp = [10, 11, 13]\n",
        "Monday_temp = [11, 12, 13]\n",
        "Tuesday_temp = [12, 13, 14]\n",
        "\n",
        "# Using nested loops to calculate and print averages\n",
        "for day in days:\n",
        "    print(\"Temp for day\", day, \"is recorded as:\")\n",
        "    averageTemp = 0.0\n",
        "    count = 0.0\n",
        "\n",
        "    if (day == \"Sunday\"):\n",
        "        for temp in Sunday_temp:\n",
        "            print(temp)\n",
        "            averageTemp = averageTemp + temp\n",
        "            count = count + 1\n",
        "    elif (day == \"Monday\"):\n",
        "        for temp in Monday_temp:\n",
        "            print(temp)\n",
        "            averageTemp = averageTemp + temp\n",
        "            count = count + 1\n",
        "    else:\n",
        "        for temp in Tuesday_temp:\n",
        "            print(temp)\n",
        "            averageTemp = averageTemp + temp\n",
        "            count = count + 1\n",
        "\n",
        "    print(\"Average is :\", averageTemp / count)\n",
        "\n",
        "print(\"Out of all loops\")"
      ]
    },
    {
      "cell_type": "markdown",
      "metadata": {
        "id": "qtm-qBFXQgdT"
      },
      "source": [
        "<h5>Version 2: Using a Reusable Function (Simpler and Better)</h5>\n",
        "This version defines a single function `compute_mean_of_temp` that can be reused for each day, making the code cleaner, shorter, and easier to maintain."
      ]
    },
    {
      "cell_type": "code",
      "execution_count": null,
      "metadata": {
        "colab": {
          "base_uri": "https://localhost:8080/"
        },
        "id": "vgyeV_8rQgdT",
        "outputId": "33d19fe0-e394-41cb-f9e6-c4afad6b103c"
      },
      "outputs": [
        {
          "output_type": "stream",
          "name": "stdout",
          "text": [
            "Temp for day Sunday is recorded as: [10, 11, 13] ; and the mean is= 11.333333333333334\n",
            "Temp for day Monday is recorded as: [11, 12, 13] ; and the mean is= 12\n",
            "Temp for day Tuesday is recorded as: [12, 13, 14] ; and the mean is= 13\n",
            "Done!\n"
          ]
        }
      ],
      "source": [
        "import statistics\n",
        "\n",
        "# A Function that computes the mean of temperature values\n",
        "def compute_mean_of_temp(day, temp_values):\n",
        "  my_mean = statistics.mean(temp_values)\n",
        "  print(\"Temp for day\", day, \"is recorded as:\", temp_values, \"; and the mean is=\", my_mean)\n",
        "  return my_mean\n",
        "\n",
        "# Program to compute mean of temp for each day\n",
        "days = [\"Sunday\", \"Monday\", \"Tuesday\"]\n",
        "Sunday_temp = [10, 11, 13]\n",
        "Monday_temp = [11, 12, 13]\n",
        "Tuesday_temp = [12, 13, 14]\n",
        "\n",
        "for day in days:\n",
        "  if (day == \"Sunday\"):\n",
        "    compute_mean_of_temp(day, Sunday_temp)\n",
        "  elif (day == \"Monday\"):\n",
        "    compute_mean_of_temp(day, Monday_temp)\n",
        "  else:\n",
        "    compute_mean_of_temp(day, Tuesday_temp)\n",
        "\n",
        "print(\"Done!\")"
      ]
    },
    {
      "cell_type": "markdown",
      "metadata": {
        "id": "7B2HSgi9QgdT"
      },
      "source": [
        "<h4>Exercise: DMS to Decimal Conversion</h4>\n",
        "This program takes two observations in Degrees, Minutes, and Seconds (DMS), converts them to decimal form, and then calculates the difference and mean of the two decimal values."
      ]
    },
    {
      "cell_type": "code",
      "execution_count": null,
      "metadata": {
        "colab": {
          "base_uri": "https://localhost:8080/"
        },
        "id": "2-xzPLy5QgdT",
        "outputId": "9d406cd1-72fe-4dc5-dd8e-30f298a79708"
      },
      "outputs": [
        {
          "metadata": {
            "tags": null
          },
          "name": "stdout",
          "output_type": "stream",
          "text": [
            "\n",
            "Pls enter values for observations 1 :\n",
            "values are  degree: 25 , minutes: 23 , Seconds: 12\n",
            "25 ° 23 ' 12 '' --> 25.386666666666667\n",
            "\n",
            "Pls enter values for observations 2 :\n"
          ]
        }
      ],
      "source": [
        "import statistics # A library for finding useful math functions\n",
        "\n",
        "# A function that calculates decimal degrees based on degree, minutes, and seconds\n",
        "def calculator(degree, minutes, seconds):\n",
        "  calc = 0.0\n",
        "  calc = abs(degree) + (minutes / 60) + (seconds / 3600)\n",
        "  if(degree > 0):\n",
        "    print(degree, chr(176), minutes, \"'\", seconds, \"''\", '-->', calc)\n",
        "  else:\n",
        "    # Handles negative degrees\n",
        "    calc = -calc\n",
        "    print(degree, chr(176), minutes, \"'\", seconds, \"''\", '-->', calc)\n",
        "  return calc\n",
        "\n",
        "# A function that prints useful stats (difference and mean)\n",
        "def print_stats(calc_results):\n",
        "  print(\"The first calculation is: \", calc_results[0])\n",
        "  print(\"The second calculation is: \", calc_results[1])\n",
        "  print(\"Abs Difference is =\", abs(calc_results[1] - calc_results[0]))\n",
        "  print(\"Mean is =\", statistics.mean(calc_results))\n",
        "\n",
        "# Our program--Takes 2 observations as input and calculates their mean & difference\n",
        "count = 0\n",
        "calc = [0.0, 0.0]\n",
        "while(count <= 1): # The loop will only run twice\n",
        "  print (\"\\nPls enter values for observations\", (count + 1), \":\")\n",
        "  try:\n",
        "    degree = int(input(\"Enter the Degree: \"))\n",
        "    minutes = int(input(\"Enter the Minutes: \"))\n",
        "    seconds = int(input(\"Enter the Seconds: \"))\n",
        "    print(\"values are \", \"degree:\", degree, \", minutes:\", minutes, \", Seconds:\", seconds)\n",
        "\n",
        "    # We are storing the result in an array, where [0] is the first result and [1] is the second\n",
        "    calc[count] = calculator(degree, minutes, seconds)\n",
        "    count = count + 1\n",
        "  except ValueError:\n",
        "    print(\"Exception Error... Pls enter numeric values only\")\n",
        "\n",
        "# Call the function to print the final stats\n",
        "print(\"\\n--- Final Statistics ---\")\n",
        "print_stats(calc)"
      ]
    },
    {
      "cell_type": "markdown",
      "metadata": {
        "id": "ftRFUo2jQgdU"
      },
      "source": [
        "---"
      ]
    },
    {
      "cell_type": "markdown",
      "metadata": {
        "id": "ZveSJ0ewQgdU"
      },
      "source": [
        "<h2>Part 2: Data Structures in Python</h2>\n",
        "\n",
        "This section covers the examples from the \"Data Structures in Python\" slides."
      ]
    },
    {
      "cell_type": "markdown",
      "metadata": {
        "id": "1QdvrXeAQgdU"
      },
      "source": [
        "<h3>1. List (Array)</h3>"
      ]
    },
    {
      "cell_type": "markdown",
      "metadata": {
        "id": "cTQ7l-7eQgdU"
      },
      "source": [
        "<h4>Working with Lists</h4>\n",
        "Creating lists, accessing elements by index, and modifying elements."
      ]
    },
    {
      "cell_type": "code",
      "execution_count": null,
      "metadata": {
        "id": "F503XJADQgdU"
      },
      "outputs": [],
      "source": [
        "# Assign the list\n",
        "List1 = [2, -3, 0, 4, -1]\n",
        "# Print the list\n",
        "print(List1)\n",
        "\n",
        "# Print the index 0 (1st element)\n",
        "print(List1[0])\n",
        "\n",
        "# Change the value at 1st index (2nd element)\n",
        "List1[1] = 7\n",
        "print(List1)"
      ]
    },
    {
      "cell_type": "markdown",
      "metadata": {
        "id": "Fi_Xag5qQgdV"
      },
      "source": [
        "<h4>Slicing</h4>\n",
        "Extracting a portion of a list. The format is `list[begin:end:step]`."
      ]
    },
    {
      "cell_type": "code",
      "execution_count": null,
      "metadata": {
        "id": "MXrdkIJiQgdV"
      },
      "outputs": [],
      "source": [
        "lst = [10, 20, 30, 40, 50, 60, 70, 80, 90, 100, 110, 120]\n",
        "\n",
        "print(\"Original list:\", lst)\n",
        "print(\"lst[:]:\", lst[:]) # A copy of the whole list\n",
        "print(\"lst[0:3:1]:\", lst[0:3:1]) # Elements from index 0 up to (but not including) 3\n",
        "print(\"lst[4:8]:\", lst[4:8]) # Elements from index 4 up to 8\n",
        "print(\"lst[2:5]:\", lst[2:5]) # Elements from index 2 up to 5\n",
        "print(\"lst[-5:-3]:\", lst[-5:-3]) # Negative indexing: from 5th last to 3rd last\n",
        "print(\"lst[:3]:\", lst[:3]) # First three elements\n",
        "print(\"lst[4:]:\", lst[4:]) # All elements from index 4 onwards\n",
        "print(\"lst[4:100]:\", lst[4:100]) # Slicing handles out of bound indexes gracefully\n",
        "print(\"lst[2:-2:2]:\", lst[2:-2:2]) # From index 2 to 2nd last, with a step of 2\n",
        "print(\"lst[::2]:\", lst[::2]) # Every second element from the beginning"
      ]
    },
    {
      "cell_type": "markdown",
      "metadata": {
        "id": "v3NYUeMaQgdV"
      },
      "source": [
        "<h4>List Element Removal</h4>\n",
        "Using the `del` keyword to remove elements by index or slice."
      ]
    },
    {
      "cell_type": "code",
      "execution_count": null,
      "metadata": {
        "id": "JTGbcntQQgdV"
      },
      "outputs": [],
      "source": [
        "# Create a list of numbers from 0 to 19\n",
        "a = list(range(20))\n",
        "print(\"Original list a:\", a)\n",
        "\n",
        "# Delete the slice from index 5 to 14\n",
        "del a[5:15]\n",
        "print(\"List a after del a[5:15]:\", a)\n",
        "\n",
        "print(\"-\" * 20)\n",
        "\n",
        "# Create a list from 10 to 51 with a step of 8\n",
        "b = list(range(10, 52, 8))\n",
        "print(\"Original list b:\", b)\n",
        "\n",
        "# Delete the elements at index 0 and the new index 3\n",
        "# Note: after deleting b[0], the list shifts, so b[3] refers to the new list\n",
        "del b[0], b[3]\n",
        "print(\"List b after del b[0], b[3]:\", b)"
      ]
    },
    {
      "cell_type": "markdown",
      "metadata": {
        "id": "E3BhBFyZQgdW"
      },
      "source": [
        "<h4>List Methods</h4>\n",
        "Examples of common list methods like `count`, `index`, `reverse`, `append`, and `sort`."
      ]
    },
    {
      "cell_type": "code",
      "execution_count": null,
      "metadata": {
        "id": "qgmwTLuNQgdW"
      },
      "outputs": [],
      "source": [
        "fruits = ['orange', 'apple', 'pear', 'banana', 'kiwi', 'apple', 'banana']\n",
        "print(\"Original fruits:\", fruits)\n",
        "\n",
        "# count() - returns the number of times an element appears\n",
        "print(\"\\nfruits.count('apple'):\", fruits.count('apple'))\n",
        "print(\"fruits.count('tangerine'):\", fruits.count('tangerine'))\n",
        "\n",
        "# index() - returns the index of the first occurrence of an element\n",
        "print(\"\\nfruits.index('banana'):\", fruits.index('banana'))\n",
        "# Find the next banana starting from position 4\n",
        "print(\"fruits.index('banana', 4):\", fruits.index('banana', 4))\n",
        "\n",
        "# reverse() - reverses the list in-place\n",
        "fruits.reverse()\n",
        "print(\"\\nfruits after reverse():\", fruits)\n",
        "\n",
        "# append() - adds an element to the end of the list\n",
        "fruits.append('grape')\n",
        "print(\"\\nfruits after append('grape'):\", fruits)\n",
        "\n",
        "# sort() - sorts the list in-place\n",
        "fruits.sort()\n",
        "print(\"\\nfruits after sort():\", fruits)"
      ]
    },
    {
      "cell_type": "markdown",
      "metadata": {
        "id": "mO0s8r3TQgdW"
      },
      "source": [
        "<h4>2D Array (Matrix)</h4>\n",
        "A list of lists can be used to create a 2D array or matrix."
      ]
    },
    {
      "cell_type": "code",
      "execution_count": null,
      "metadata": {
        "id": "mTSR-f3AQgdW"
      },
      "outputs": [],
      "source": [
        "# matrix (2D)\n",
        "matrix = [\n",
        "    [100, 14, 8, 22, 71],\n",
        "    [0, 243, 68, 1, 30],\n",
        "    [90, 21, 7, 67, 112],\n",
        "    [115, 200, 70, 150, 8]\n",
        "]\n",
        "\n",
        "# print the matrix\n",
        "print(\"Full matrix:\\n\", matrix)\n",
        "\n",
        "# Print a specific [row][column] value (row 1, column 4)\n",
        "print(\"\\nmatrix[1][4]:\", matrix[1][4])\n",
        "\n",
        "# Print a specific row with all values in the column: [row][:]\n",
        "print(\"\\nrow index 1 is:\", matrix[1][:])\n",
        "\n",
        "# This is the same as above. It prints only row index 1.\n",
        "print(\"row index 1 is:\", matrix[1])\n",
        "\n",
        "# Print a specific value from row 2, column 4\n",
        "print(\"\\nmatrix[2][4] is:\", matrix[2][4])"
      ]
    },
    {
      "cell_type": "markdown",
      "metadata": {
        "id": "S8cGJtvoQgdW"
      },
      "source": [
        "<h3>2. Tuples</h3>\n",
        "Tuples are similar to lists, but they are **immutable** (cannot be changed)."
      ]
    },
    {
      "cell_type": "code",
      "execution_count": null,
      "metadata": {
        "id": "XLbtc9BnQgdW"
      },
      "outputs": [],
      "source": [
        "# Creating tuples\n",
        "tup1 = ('physics', 15, 'math', 8, 2000)\n",
        "tup2 = (10, 2, 5.5, 4, -2)\n",
        "print(\"tup1:\", tup1)\n",
        "print(\"tup2:\", tup2)\n",
        "\n",
        "# A list inside a tuple can still be modified, but the tuple itself cannot.\n",
        "tup4 = (2, 'Fred', 41.2, [30, 20, 10])\n",
        "print(\"\\ntup4:\", tup4)\n",
        "\n",
        "# Converting between lists and tuples\n",
        "# Convert tuple to list\n",
        "list_from_tup2 = list(tup2)\n",
        "print(\"\\nList converted from tup2:\", list_from_tup2)\n",
        "\n",
        "# Convert list back to tuple\n",
        "tuple_from_list = tuple(list_from_tup2)\n",
        "print(\"Tuple converted back from list:\", tuple_from_list)"
      ]
    },
    {
      "cell_type": "markdown",
      "metadata": {
        "id": "8HCHLItZQgdb"
      },
      "source": [
        "<h3>3. Dictionary</h3>\n",
        "Dictionaries store data in `key:value` pairs. They are unordered, mutable, and do not allow duplicate keys."
      ]
    },
    {
      "cell_type": "code",
      "execution_count": null,
      "metadata": {
        "id": "INz1KAkyQgdc"
      },
      "outputs": [],
      "source": [
        "# Create a dictionary\n",
        "tel = {'jack': 4098, 'sara': 4139}\n",
        "print(\"Original dictionary:\", tel)\n",
        "\n",
        "# Add an element to the dictionary\n",
        "tel['david'] = 4127\n",
        "print(\"After adding david:\", tel)\n",
        "\n",
        "# Delete a key:value pair\n",
        "del tel['sara']\n",
        "print(\"After deleting sara:\", tel)\n",
        "\n",
        "# Print keys\n",
        "print(\"\\nKeys of the dictionary:\", list(tel))\n",
        "\n",
        "# Sort a dictionary by its keys\n",
        "print(\"Sorted keys:\", sorted(tel))\n",
        "\n",
        "# Another way of making a dictionary\n",
        "tel2 = dict(sara=4139, david=4127, jack=4098)\n",
        "print(\"\\nSecond dictionary (tel2):\", tel2)\n",
        "\n",
        "# Access a value by its key\n",
        "print(\"\\nAccessing tel2['sara']:\", tel2['sara'])\n",
        "print(\"Accessing tel2.get('sara'):\", tel2.get('sara'))\n",
        "\n",
        "# Get all keys and values\n",
        "print(\"\\nKeys:\", tel2.keys())\n",
        "print(\"Values:\", tel2.values())\n",
        "\n",
        "# Sort dictionary keys in descending and ascending order\n",
        "print(\"\\nSorted descending:\", sorted(tel2, reverse=True))\n",
        "print(\"Sorted ascending:\", sorted(tel2))\n",
        "\n",
        "# Find a key in the dictionary using 'in'\n",
        "print(\"\\n'mina' in tel2?\", 'mina' in tel2)\n",
        "print(\"'sara' not in tel2?\", 'sara' not in tel2)"
      ]
    },
    {
      "cell_type": "markdown",
      "metadata": {
        "id": "CHyI8g3MQgdc"
      },
      "source": [
        "<h3>4. Sets</h3>\n",
        "A set is an unordered collection with no duplicate elements."
      ]
    },
    {
      "cell_type": "code",
      "execution_count": null,
      "metadata": {
        "id": "jRpVJ4c4Qgdc"
      },
      "outputs": [],
      "source": [
        "# Create a list with duplicate elements\n",
        "basket_list = ['apple', 'orange', 'apple', 'pear', 'orange', 'banana']\n",
        "print(\"Original list:\", basket_list)\n",
        "\n",
        "# Create a set from the list - duplicates are automatically removed\n",
        "basket_set = set(basket_list)\n",
        "print(\"Set created from list:\", basket_set)\n",
        "\n",
        "# Membership testing using 'in'\n",
        "print(\"\\n'orange' in basket_set?\", 'orange' in basket_set)\n",
        "print(\"'crabgrass' in basket_set?\", 'crabgrass' in basket_set)"
      ]
    }
  ],
  "metadata": {
    "colab": {
      "provenance": [],
      "include_colab_link": true
    },
    "kernelspec": {
      "display_name": "Python 3",
      "name": "python3"
    },
    "language_info": {
      "name": "python"
    }
  },
  "nbformat": 4,
  "nbformat_minor": 0
}